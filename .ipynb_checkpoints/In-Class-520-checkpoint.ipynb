{
 "cells": [
  {
   "cell_type": "markdown",
   "id": "387e3abd-56c7-41a3-ae10-2f161fdc2c21",
   "metadata": {},
   "source": [
    "In Class 520 Stoff"
   ]
  },
  {
   "cell_type": "code",
   "execution_count": 47,
   "id": "daa669c7-dd4a-42c8-8921-1f8025bca2c2",
   "metadata": {},
   "outputs": [],
   "source": [
    "import plotly.express as px\n",
    "import matplotlib.pyplot as plt\n",
    "import pandas as pd\n",
    "import statistics\n",
    "from matplotlib import cm\n",
    "import csv\n",
    "import tidypandas as tp"
   ]
  },
  {
   "cell_type": "code",
   "execution_count": 51,
   "id": "61e3f966-298f-49c4-bb21-d39096ec1728",
   "metadata": {},
   "outputs": [],
   "source": [
    "#Sharon's nominations\n",
    "SV=pd.DataFrame(['Connor Hellebuyck','Andrei Vasilevskiy','Mackenzie Blackwood','Igor Shesterkin','Ilya Sorokin'])\n",
    "SHM=pd.DataFrame(['Nathan MacKinnon','Leon Draisaitl','Nikita Kucherov','Cale Makar','Jack Eichel'])\n",
    "SJN=pd.DataFrame(['Ian Cole','Jacob Trouba','Chris Tanev','Rasmus Andersson','Nick Seeler'])\n",
    "SCM=pd.DataFrame(['Kirill Marchenko','Matthew Knies','Wyatt Johnston','Marco Rossi','JJ Peterka'])\n",
    "SFJS=pd.DataFrame(['Brandon Tanev','Alex Tuch','Noel Acciari','Rickard Rakell','Vincent Trocheck'])\n",
    "SLBM=pd.DataFrame(['Nick Suzuki','Jack Eichel','Martin Necas','Mitch Marner','Jesper Bratt'])\n"
   ]
  },
  {
   "cell_type": "code",
   "execution_count": 52,
   "id": "c0fa0d80-58e1-4dac-a83e-4d409f7a60e5",
   "metadata": {},
   "outputs": [],
   "source": [
    "#Justice' nominations\n",
    "JV=pd.DataFrame(['Connor Hellebuyck','Andrei Vasilevskiy','Ilya Sorokin','Igor Shesterkin','Ukko-Pekka Luukkonen'])\n",
    "JHM=pd.DataFrame(['Eklom','Slavis','Toews','Gostisbere','Orlov'])\n",
    "KJN=pd.DataFrame(['Moritz Seider','Mackenzie Weegar','Cale Makar','Colton Parayko','Neal Pionk'])\n",
    "KCM=pd.DataFrame(['Dylan Holloway','Will Cuyllie','Colton Dach','Martin Pospisil','Paul Cotter'])\n",
    "KFJS=pd.DataFrame(['Will Cuyllie','Fabian Zetterlund','Beck Malentsyn','Dylan Holloway','Juraj Slafkovsky'])\n",
    "KLBM=pd.DataFrame([])"
   ]
  },
  {
   "cell_type": "code",
   "execution_count": 18,
   "id": "b80e59d1-15e5-45b4-999c-9f512efb1d71",
   "metadata": {},
   "outputs": [],
   "source": [
    "#Betsy's Nomination\n",
    "B=pd.read_csv('BetsyChurchHockeyBallot.csv')\n",
    "BV=B[B['Award']=='Vezina']\n",
    "BHM=B[B['Award']=='Hart']\n",
    "BJN=B[B['Award']=='Norris']\n",
    "BCM=B[B['Award']=='Calder']\n",
    "BFJS=B[B['Award']=='Selke']\n",
    "BLBM=B[B['Award']=='Bing']"
   ]
  },
  {
   "cell_type": "code",
   "execution_count": 19,
   "id": "ebac1388-dd06-42b5-a8f1-bc77513b8aa5",
   "metadata": {},
   "outputs": [],
   "source": [
    "#Barrie's nominations\n",
    "BR=pd.read_csv('Barrie.csv')\n",
    "BRV=BR[BR['Award']=='Vezina']\n",
    "BRHM=BR[BR['Award']=='Hart']\n",
    "BRJN=BR[BR['Award']=='Norris']\n",
    "BRCM=BR[BR['Award']=='Calder']\n",
    "BRFJS=BR[BR['Award']=='Selke']\n",
    "BRLBM=BR[BR['Award']=='Bing']"
   ]
  },
  {
   "cell_type": "code",
   "execution_count": 20,
   "id": "dc222fbf-05ce-463c-acb6-49a656bf6c93",
   "metadata": {},
   "outputs": [],
   "source": [
    "#Priya's Nominations\n",
    "P=pd.read_csv('NHL_Award_Ballet.csv')\n",
    "PV=pd.read_csv('NHL_Award_Ballet.csv',usecols=['Rank','VEZINA'])\n",
    "PHM=pd.read_csv('NHL_Award_Ballet.csv',usecols=['Rank','HART'])\n",
    "PJN=pd.read_csv('NHL_Award_Ballet.csv',usecols=['Rank','JAMES NORRIS'])\n",
    "PCM=pd.read_csv('NHL_Award_Ballet.csv',usecols=['Rank','CALDER'])\n",
    "PFJS=pd.read_csv('NHL_Award_Ballet.csv',usecols=['Rank','FRANK J SELKE'])\n",
    "PLBM=pd.read_csv('NHL_Award_Ballet.csv',usecols=['Rank','LADY BING'])"
   ]
  },
  {
   "cell_type": "code",
   "execution_count": 22,
   "id": "f13544a1-1555-4da4-a3e1-426c37826d4a",
   "metadata": {},
   "outputs": [],
   "source": [
    "#Henry's Nominations\n",
    "H=pd.read_csv('NHLawardballotHT.csv')\n",
    "HRVH=H[H['Award']=='Vezina']\n",
    "HRHM=H[H['Award']=='Hart']\n",
    "HJN=H[H['Award']=='James Norris']\n",
    "HCM=H[H['Award']=='Calder']\n",
    "HFJS=H[H['Award']=='Frank J Selke']\n",
    "HLBM=H[H['Award']=='Lady Byng']"
   ]
  },
  {
   "cell_type": "code",
   "execution_count": null,
   "id": "9a43f73b-c18d-40e8-a5de-19d779c947bf",
   "metadata": {},
   "outputs": [],
   "source": [
    "#Claire's Nominations\n",
    "C=pd.read_csv('HockeyRankingCS.csv')\n",
    "CV=pd.DataFrame(['Connor Hellebuyck','Andrei Vasilevskiy','Mackenzie Blackwood','Logan Thompson','Filip Gustavsson'])\n",
    "CHM=pd.DataFrame(['Jackson Black','Matthew Tkachuk','\n",
    "C[C['Award']=='Heart']\n",
    "CJN=C[C['Award']=='James Norris']\n",
    "CCM=C[C['Award']=='Calder']\n",
    "CFJS=C[C['Award']=='Frank J. Selke']\n",
    "PLBM=C[C['Award']=='Lady Btng']\n",
    "\n",
    "#John's Nominations\n",
    "JC=pd.read_csv('JohnCambareriHockeyAwards.csv')\n",
    "JCV=JC[JC['Award']=='Vezina']\n",
    "JCHM=JC[JC['Award']=='Hart']\n",
    "JCJN=JC[JC['Award']=='James Norris']\n",
    "JCCM=JC[JC['Award']=='Calder']\n",
    "JCFJS=JC[JC['Award']=='Frank J Selke']\n",
    "JCLBM=JC[JC['Award']=='Lady Byng']"
   ]
  },
  {
   "cell_type": "code",
   "execution_count": null,
   "id": "0b2f1199-35ad-4900-bebe-3e545fcfc831",
   "metadata": {},
   "outputs": [],
   "source": []
  }
 ],
 "metadata": {
  "kernelspec": {
   "display_name": "Python 3 (ipykernel)",
   "language": "python",
   "name": "python3"
  },
  "language_info": {
   "codemirror_mode": {
    "name": "ipython",
    "version": 3
   },
   "file_extension": ".py",
   "mimetype": "text/x-python",
   "name": "python",
   "nbconvert_exporter": "python",
   "pygments_lexer": "ipython3",
   "version": "3.12.5"
  }
 },
 "nbformat": 4,
 "nbformat_minor": 5
}
