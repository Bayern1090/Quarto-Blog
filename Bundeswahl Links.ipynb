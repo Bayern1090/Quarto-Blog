{
 "cells": [
  {
   "cell_type": "code",
   "execution_count": null,
   "id": "65da5d5e-71eb-430a-8d99-e1bb1de5d669",
   "metadata": {},
   "outputs": [],
   "source": [
    "# Bundeswaehle von 2002 bis 2021\n",
    "\"https://www.tagesschau.de/wahl/archiv/2021-09-26-BT-DE/index.shtml\"\n",
    "\"https://www.tagesschau.de/wahl/archiv/2017-09-24-BT-DE/\"\n",
    "\"https://www.tagesschau.de/wahl/archiv/2013-09-22-BT-DE/index.shtml\"\n",
    "\"https://www.tagesschau.de/wahl/archiv/2009-09-27-BT-DE/index.shtml\"\n",
    "\"https://www.tagesschau.de/wahl/archiv/2005-09-18-BT-DE/index.shtml\"\n",
    "\"https://www.tagesschau.de/wahl/archiv/2002-09-22-BT-DE/index.shtml\""
   ]
  }
 ],
 "metadata": {
  "kernelspec": {
   "display_name": "Python 3 (ipykernel)",
   "language": "python",
   "name": "python3"
  },
  "language_info": {
   "codemirror_mode": {
    "name": "ipython",
    "version": 3
   },
   "file_extension": ".py",
   "mimetype": "text/x-python",
   "name": "python",
   "nbconvert_exporter": "python",
   "pygments_lexer": "ipython3",
   "version": "3.12.5"
  }
 },
 "nbformat": 4,
 "nbformat_minor": 5
}
