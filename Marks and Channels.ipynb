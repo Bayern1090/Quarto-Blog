{
 "cells": [
  {
   "cell_type": "markdown",
   "id": "a02a8ac6-1cb6-44b2-8c18-0532f4693aa3",
   "metadata": {},
   "source": [
    "# This is going to be a great time. It's time to create miserable combinations of marks and channels. However, what are marks and channels? Marks are the items of a data, in my case they are the percentages of votes that each party got. Channels are the appearance of marks. Think things like color, shape, size, etc. "
   ]
  }
 ],
 "metadata": {
  "kernelspec": {
   "display_name": "Python 3 (ipykernel)",
   "language": "python",
   "name": "python3"
  },
  "language_info": {
   "codemirror_mode": {
    "name": "ipython",
    "version": 3
   },
   "file_extension": ".py",
   "mimetype": "text/x-python",
   "name": "python",
   "nbconvert_exporter": "python",
   "pygments_lexer": "ipython3",
   "version": "3.12.5"
  }
 },
 "nbformat": 4,
 "nbformat_minor": 5
}
